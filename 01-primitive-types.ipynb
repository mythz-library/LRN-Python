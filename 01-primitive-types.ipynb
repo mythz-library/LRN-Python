{
 "cells": [
  {
   "cell_type": "markdown",
   "id": "a77f985b-758c-4084-9853-517e68df8213",
   "metadata": {},
   "source": [
    "# Primitive Types in Python\n",
    "\n",
    "- strings\n",
    "- numbers\n",
    "- booleans"
   ]
  },
  {
   "cell_type": "markdown",
   "id": "68732d15-0159-40ea-85c5-6d8052164d80",
   "metadata": {},
   "source": [
    "<br/>\n",
    "\n",
    "## Working with strings"
   ]
  },
  {
   "cell_type": "code",
   "execution_count": 1,
   "id": "fdd287be-a56c-4706-b96f-f2ac6a8fac16",
   "metadata": {},
   "outputs": [],
   "source": [
    "course = \"Python Programming\""
   ]
  },
  {
   "cell_type": "code",
   "execution_count": 2,
   "id": "5473cde2-5b2d-4bfd-b8b0-75c6308e166d",
   "metadata": {},
   "outputs": [
    {
     "name": "stdout",
     "output_type": "stream",
     "text": [
      "18\n"
     ]
    }
   ],
   "source": [
    "print(len(course))"
   ]
  },
  {
   "cell_type": "code",
   "execution_count": 3,
   "id": "5fd01977-4e84-4fac-a06c-8c592e425e73",
   "metadata": {},
   "outputs": [
    {
     "name": "stdout",
     "output_type": "stream",
     "text": [
      "P g\n"
     ]
    }
   ],
   "source": [
    "print(course[0], course[-1])"
   ]
  },
  {
   "cell_type": "code",
   "execution_count": 4,
   "id": "ae045bca-0425-470b-95f6-a5e817a18b32",
   "metadata": {},
   "outputs": [
    {
     "name": "stdout",
     "output_type": "stream",
     "text": [
      "Pyt\n",
      "Pyt\n"
     ]
    }
   ],
   "source": [
    "# Slicing strings\n",
    "\n",
    "# Extracting first 3 characters\n",
    "print(course[0:3])\n",
    "print(course[:3])"
   ]
  },
  {
   "cell_type": "code",
   "execution_count": 5,
   "id": "78ac7c6f-d6a5-4d46-ac5c-52262a820391",
   "metadata": {},
   "outputs": [
    {
     "name": "stdout",
     "output_type": "stream",
     "text": [
      "Python Programming\n"
     ]
    }
   ],
   "source": [
    "# print copy of the original string\n",
    "print(course[:])"
   ]
  },
  {
   "cell_type": "code",
   "execution_count": 10,
   "id": "ef0b6c81-40c7-4849-8c36-3624a57e3bea",
   "metadata": {},
   "outputs": [
    {
     "name": "stdout",
     "output_type": "stream",
     "text": [
      "ing\n"
     ]
    }
   ],
   "source": [
    "print(course[-3:])"
   ]
  },
  {
   "cell_type": "code",
   "execution_count": 11,
   "id": "68fac86b-72d4-46c3-9a0b-cddaaeb97569",
   "metadata": {},
   "outputs": [
    {
     "name": "stdout",
     "output_type": "stream",
     "text": [
      "Pto rgamn\n"
     ]
    }
   ],
   "source": [
    "print(course[::2])"
   ]
  },
  {
   "cell_type": "markdown",
   "id": "5e58b937-0ca3-45c4-a9cc-9bfd3ab13957",
   "metadata": {},
   "source": [
    "<br/>\n",
    "\n",
    "### Escape sequences\n",
    "\n",
    "Escape sequences in Python are special character combinations that start with a backslash () to represent characters that are difficult or impossible to include directly in a string, such as newline `\\n` or tab `\\t`. They allow us to insert special characters into strings."
   ]
  },
  {
   "cell_type": "code",
   "execution_count": 14,
   "id": "18dfdc84-32fe-43ba-a89f-48d5157f319d",
   "metadata": {},
   "outputs": [
    {
     "name": "stdout",
     "output_type": "stream",
     "text": [
      "Davie John's Heart\n"
     ]
    }
   ],
   "source": [
    "course = \"Davie John's Heart\"\n",
    "print(course)"
   ]
  },
  {
   "cell_type": "code",
   "execution_count": 15,
   "id": "5d7b25b4-1fce-4df0-a327-1778def86593",
   "metadata": {},
   "outputs": [
    {
     "name": "stdout",
     "output_type": "stream",
     "text": [
      "Davie John\"s Heart\n"
     ]
    }
   ],
   "source": [
    "course = \"Davie John\\\"s Heart\"\n",
    "print(course)"
   ]
  },
  {
   "cell_type": "code",
   "execution_count": 16,
   "id": "71b4f71c-09ff-4414-97cd-e9f27328e5a8",
   "metadata": {},
   "outputs": [
    {
     "name": "stdout",
     "output_type": "stream",
     "text": [
      "Python \\ Programming\n"
     ]
    }
   ],
   "source": [
    "course = \"Python \\\\ Programming\"\n",
    "print(course)"
   ]
  },
  {
   "cell_type": "code",
   "execution_count": 17,
   "id": "8b96b092-be39-4a70-a1e9-b874a1f08d3e",
   "metadata": {},
   "outputs": [
    {
     "name": "stdout",
     "output_type": "stream",
     "text": [
      "Python \n",
      " Programming\n"
     ]
    }
   ],
   "source": [
    "course = \"Python \\n Programming\"\n",
    "print(course)"
   ]
  },
  {
   "cell_type": "markdown",
   "id": "95b7131b-fcd7-4f67-9d64-a9b98b1bd1de",
   "metadata": {},
   "source": [
    "<br/>\n",
    "\n",
    "### Formatted Strings\n",
    "\n",
    "Let's see how to combine two strings together in Python"
   ]
  },
  {
   "cell_type": "code",
   "execution_count": 18,
   "id": "c92c5581-ea19-47fc-8cf7-0f010bb08a97",
   "metadata": {},
   "outputs": [
    {
     "name": "stdout",
     "output_type": "stream",
     "text": [
      "Ashen Jayarathne\n"
     ]
    }
   ],
   "source": [
    "# Concatenation (general method)\n",
    "first = \"Ashen\"\n",
    "last = \"Jayarathne\"\n",
    "full_name = first + \" \" + \"Jayarathne\"\n",
    "print(full_name)"
   ]
  },
  {
   "cell_type": "code",
   "execution_count": 19,
   "id": "fb210ae3-4572-43c2-b3a7-3ff48c6cbd57",
   "metadata": {},
   "outputs": [
    {
     "name": "stdout",
     "output_type": "stream",
     "text": [
      "Ashen Jayarathne\n"
     ]
    }
   ],
   "source": [
    "# using Formatted string\n",
    "first = \"Ashen\"\n",
    "last = \"Jayarathne\"\n",
    "full_name = f\"{first} {last}\"\n",
    "print(full_name)"
   ]
  },
  {
   "cell_type": "markdown",
   "id": "4bf8d408-0d06-481b-b9e3-2a6043aa7b70",
   "metadata": {},
   "source": [
    "> `f\"{first} {last}\"` - in this code statement, `f` that we used to prefix could be either `f` or `F`"
   ]
  },
  {
   "cell_type": "code",
   "execution_count": 22,
   "id": "3bd515a1-8138-4575-b8bb-e400a791cdcd",
   "metadata": {},
   "outputs": [
    {
     "data": {
      "text/plain": [
       "'Ashen Jayarathne has 15 characters'"
      ]
     },
     "execution_count": 22,
     "metadata": {},
     "output_type": "execute_result"
    }
   ],
   "source": [
    "# Inside formatted strings, we can define any valid python expression\n",
    "first = \"Ashen\"\n",
    "last = \"Jayarathne\"\n",
    "full_name = f\"{first} {last} has {len(first + last)} characters\"\n",
    "full_name"
   ]
  },
  {
   "cell_type": "markdown",
   "id": "1f1bb483-fb0f-41bc-b40e-6b89bb2d5ba1",
   "metadata": {},
   "source": [
    "<br/>\n",
    "\n",
    "### Built-in function for working with strings\n",
    "\n",
    "- More accurately, these functions are methods"
   ]
  },
  {
   "cell_type": "code",
   "execution_count": 26,
   "id": "d6c06ef9-93ff-4351-adc6-14b9294d4134",
   "metadata": {},
   "outputs": [],
   "source": [
    "course = \"Python programming\""
   ]
  },
  {
   "cell_type": "code",
   "execution_count": 24,
   "id": "3e4cbcf8-faf2-4622-80eb-c6b3f28f3a81",
   "metadata": {},
   "outputs": [
    {
     "name": "stdout",
     "output_type": "stream",
     "text": [
      "PYTHON PROGRAMMING\n"
     ]
    }
   ],
   "source": [
    "print(course.upper())"
   ]
  },
  {
   "cell_type": "code",
   "execution_count": 25,
   "id": "662d63b4-dec2-4ebc-86de-200357aa8662",
   "metadata": {},
   "outputs": [
    {
     "name": "stdout",
     "output_type": "stream",
     "text": [
      "python programming\n"
     ]
    }
   ],
   "source": [
    "print(course.lower())"
   ]
  },
  {
   "cell_type": "code",
   "execution_count": 27,
   "id": "217203c2-add2-453f-83c0-66bd0e2b72c8",
   "metadata": {},
   "outputs": [
    {
     "name": "stdout",
     "output_type": "stream",
     "text": [
      "Python Programming\n"
     ]
    }
   ],
   "source": [
    "print(course.title())"
   ]
  },
  {
   "cell_type": "markdown",
   "id": "c2ad2315-67eb-4cf2-89b7-94f3ded69d2d",
   "metadata": {},
   "source": [
    "<br/>"
   ]
  },
  {
   "cell_type": "code",
   "execution_count": 33,
   "id": "3953978f-749e-406c-a8cf-2e02f4287054",
   "metadata": {},
   "outputs": [],
   "source": [
    "course = \"   Python programming      \""
   ]
  },
  {
   "cell_type": "code",
   "execution_count": 30,
   "id": "e7cb04c2-ff5a-4bbc-9ec1-d31f6d7cfe3c",
   "metadata": {},
   "outputs": [
    {
     "name": "stdout",
     "output_type": "stream",
     "text": [
      "Python programming\n"
     ]
    }
   ],
   "source": [
    "# Remove white space of beginning & end of the string\n",
    "print(course.strip())"
   ]
  },
  {
   "cell_type": "code",
   "execution_count": 32,
   "id": "899b6759-0fc9-4a44-96ac-2d54b50dabcd",
   "metadata": {},
   "outputs": [
    {
     "name": "stdout",
     "output_type": "stream",
     "text": [
      "Python programming      \n"
     ]
    }
   ],
   "source": [
    "print(course.lstrip())"
   ]
  },
  {
   "cell_type": "code",
   "execution_count": 34,
   "id": "6d6616f3-2e7f-48df-8247-d2f0c840d9c3",
   "metadata": {},
   "outputs": [
    {
     "name": "stdout",
     "output_type": "stream",
     "text": [
      "   Python programming\n"
     ]
    }
   ],
   "source": [
    "print(course.rstrip())"
   ]
  },
  {
   "cell_type": "markdown",
   "id": "a0a48c51-8981-4dae-98ff-77bc35807eb9",
   "metadata": {},
   "source": [
    "<br/>"
   ]
  },
  {
   "cell_type": "code",
   "execution_count": 35,
   "id": "59371752-04b1-4daa-833b-f94c1fddfbbe",
   "metadata": {},
   "outputs": [],
   "source": [
    "course = \"Python programming\""
   ]
  },
  {
   "cell_type": "code",
   "execution_count": 37,
   "id": "5ec4c50d-4448-4ea8-a884-fe76c54b6895",
   "metadata": {},
   "outputs": [
    {
     "name": "stdout",
     "output_type": "stream",
     "text": [
      "7\n"
     ]
    }
   ],
   "source": [
    "# Finding starting index of characters\n",
    "print(course.find(\"pro\"))"
   ]
  },
  {
   "cell_type": "code",
   "execution_count": 41,
   "id": "42ff42b9-9c0e-400c-ad4d-123a1f96e028",
   "metadata": {},
   "outputs": [
    {
     "name": "stdout",
     "output_type": "stream",
     "text": [
      "-1\n"
     ]
    }
   ],
   "source": [
    "print(course.find(\"Pro\"))"
   ]
  },
  {
   "cell_type": "markdown",
   "id": "e7ba524c-7807-42da-80d5-159c1e78f85e",
   "metadata": {},
   "source": [
    "> `-1` represents Not Found in original string"
   ]
  },
  {
   "cell_type": "code",
   "execution_count": 42,
   "id": "82adf041-96ed-4faa-b41c-39c9a0728a9c",
   "metadata": {},
   "outputs": [
    {
     "name": "stdout",
     "output_type": "stream",
     "text": [
      "Python Jrogramming\n"
     ]
    }
   ],
   "source": [
    "print(course.replace(\"p\", \"J\"))"
   ]
  },
  {
   "cell_type": "markdown",
   "id": "7b578a49-efaf-422f-b7e7-08d3e99d3148",
   "metadata": {},
   "source": [
    "<br/>"
   ]
  },
  {
   "cell_type": "code",
   "execution_count": 43,
   "id": "a290a3c9-27c0-44ae-8cff-1632ecb84b43",
   "metadata": {},
   "outputs": [
    {
     "name": "stdout",
     "output_type": "stream",
     "text": [
      "True\n"
     ]
    }
   ],
   "source": [
    "# Checking availability of characters\n",
    "print(\"pro\" in course)"
   ]
  },
  {
   "cell_type": "code",
   "execution_count": 44,
   "id": "0cea9cfb-4d4a-4676-b214-56881f9be77d",
   "metadata": {},
   "outputs": [
    {
     "name": "stdout",
     "output_type": "stream",
     "text": [
      "True\n"
     ]
    }
   ],
   "source": [
    "# Checking unavailability of characters\n",
    "print(\"swift\" not in course)"
   ]
  },
  {
   "cell_type": "markdown",
   "id": "4230e43b-8e6d-4fba-885d-b868c38b8dec",
   "metadata": {},
   "source": [
    "<br/>\n",
    "\n",
    "## Working with Numbers\n",
    "\n",
    "There are three types of numbers in python:\n",
    "\n",
    "    1. Integers\n",
    "    2. Floats\n",
    "    3. Complex Numbers"
   ]
  },
  {
   "cell_type": "code",
   "execution_count": 46,
   "id": "7c72a681-7a26-41d1-97c8-273ea02653b9",
   "metadata": {},
   "outputs": [],
   "source": [
    "# An example for Integer\n",
    "X = 5\n",
    "\n",
    "# An example for Float\n",
    "X = 6.1\n",
    "\n",
    "# An example for Complex number\n",
    "X = 2 + 7j"
   ]
  },
  {
   "cell_type": "markdown",
   "id": "ee6da54a-4e21-4f47-8a5f-25489dc415b7",
   "metadata": {},
   "source": [
    "<br/>\n",
    "\n",
    "### Arithmetic operators for numbers"
   ]
  },
  {
   "cell_type": "code",
   "execution_count": 48,
   "id": "3cb57916-46ce-49eb-b4a6-2607d45e3881",
   "metadata": {},
   "outputs": [
    {
     "name": "stdout",
     "output_type": "stream",
     "text": [
      "13\n",
      "7\n",
      "30\n",
      "3.3333333333333335\n",
      "3\n",
      "1\n",
      "1000\n"
     ]
    }
   ],
   "source": [
    "# Addition\n",
    "print(10 + 3)\n",
    "\n",
    "# Subtraction\n",
    "print(10 - 3)\n",
    "\n",
    "# Multiplication\n",
    "print(10 * 3)\n",
    "\n",
    "# Division\n",
    "print(10 / 3)\n",
    "\n",
    "# Floor Division\n",
    "print(10 // 3)\n",
    "\n",
    "# Modulus (remainder of the division)\n",
    "print(10 % 3)\n",
    "\n",
    "# exponent\n",
    "print(10 ** 3)"
   ]
  },
  {
   "cell_type": "markdown",
   "id": "8350778e-fc61-4d69-9f46-074619483d07",
   "metadata": {},
   "source": [
    "<br/>\n",
    "\n",
    "###  Augmented arithmetic operators\n",
    "\n",
    "Addition assignment<br/>\n",
    "`x += 5`\n",
    "\n",
    "Subtraction assignment<br/>\n",
    "`x -= 5`\n",
    "\n",
    "Multiplication assignment<br/>\n",
    "`x *= 5`\n",
    "\n",
    "Division assignment<br/>\n",
    "`x /= 5`\n",
    "\n",
    "Floor division assignment<br/>\n",
    "`x //= 5`\n",
    "\n",
    "Modulus assignment<br/>\n",
    "`x %= 5`\n",
    "\n",
    "Exponentiation assignment<br/>\n",
    "`x **= 5`"
   ]
  },
  {
   "cell_type": "markdown",
   "id": "193929ab-0a9d-471b-a4f8-45f235f79ad5",
   "metadata": {},
   "source": [
    "<br/>\n",
    "\n",
    "###  Built-in methods to work with numbers"
   ]
  },
  {
   "cell_type": "code",
   "execution_count": 56,
   "id": "d122e5b7-086f-475c-8bb7-32c7f841a129",
   "metadata": {},
   "outputs": [
    {
     "name": "stdout",
     "output_type": "stream",
     "text": [
      "4\n",
      "4\n",
      "5\n",
      "5\n"
     ]
    }
   ],
   "source": [
    "print(round(4.1))\n",
    "print(round(4.5))\n",
    "print(round(4.6))\n",
    "print(round(4.8))"
   ]
  },
  {
   "cell_type": "code",
   "execution_count": 55,
   "id": "0ddac6cc-4393-4a6c-9dcf-1869567ee200",
   "metadata": {},
   "outputs": [
    {
     "name": "stdout",
     "output_type": "stream",
     "text": [
      "3\n",
      "6.7\n"
     ]
    }
   ],
   "source": [
    "print(abs(-3))\n",
    "print(abs(-6.7))"
   ]
  },
  {
   "cell_type": "markdown",
   "id": "f7f12cac-6b68-4175-90a6-5b5d325d9eb8",
   "metadata": {},
   "source": [
    "<br/>\n",
    "\n",
    "### Working with Math module\n",
    "\n",
    "- If we want to write a program that involves complex mathematical calculations, we can use \"Math\" module\n",
    "- A module is a separate file with some python code"
   ]
  },
  {
   "cell_type": "code",
   "execution_count": 58,
   "id": "128a594b-cc37-499a-983b-5ce9f769c191",
   "metadata": {},
   "outputs": [],
   "source": [
    "import math"
   ]
  },
  {
   "cell_type": "code",
   "execution_count": 62,
   "id": "4b0172df-01a2-4da5-af13-71aeb79ed3e3",
   "metadata": {},
   "outputs": [
    {
     "data": {
      "text/plain": [
       "\u001b[1;31mType:\u001b[0m        module\n",
       "\u001b[1;31mString form:\u001b[0m <module 'math' (built-in)>\n",
       "\u001b[1;31mDocstring:\u001b[0m  \n",
       "This module provides access to the mathematical functions\n",
       "defined by the C standard."
      ]
     },
     "metadata": {},
     "output_type": "display_data"
    }
   ],
   "source": [
    "math??"
   ]
  },
  {
   "cell_type": "markdown",
   "id": "bb757107-2940-46f3-a3dd-8c48d05e1fdf",
   "metadata": {},
   "source": [
    "<br/>"
   ]
  },
  {
   "cell_type": "code",
   "execution_count": 59,
   "id": "96ff8ff5-2d57-4f2c-9fdb-320827e36309",
   "metadata": {},
   "outputs": [
    {
     "name": "stdout",
     "output_type": "stream",
     "text": [
      "3\n"
     ]
    }
   ],
   "source": [
    "print(math.ceil(2.2))"
   ]
  },
  {
   "cell_type": "code",
   "execution_count": 60,
   "id": "9f59586a-a4e7-49b9-9979-246a5a172089",
   "metadata": {},
   "outputs": [
    {
     "name": "stdout",
     "output_type": "stream",
     "text": [
      "2\n"
     ]
    }
   ],
   "source": [
    "print(math.floor(2.2))"
   ]
  },
  {
   "cell_type": "code",
   "execution_count": 64,
   "id": "655ebb30-2849-460d-ab12-c08c6886494b",
   "metadata": {},
   "outputs": [
    {
     "name": "stdout",
     "output_type": "stream",
     "text": [
      "15.0\n"
     ]
    }
   ],
   "source": [
    "print(math.sqrt(225))"
   ]
  },
  {
   "cell_type": "markdown",
   "id": "7d8e792f-e31d-4d25-853f-94911331dc3c",
   "metadata": {},
   "source": [
    "<br/>\n",
    "\n",
    "### Type Conversion"
   ]
  },
  {
   "cell_type": "code",
   "execution_count": 67,
   "id": "a901f8af-acaf-42f3-b31c-142842f8ee46",
   "metadata": {},
   "outputs": [
    {
     "name": "stdin",
     "output_type": "stream",
     "text": [
      "x:  3\n"
     ]
    },
    {
     "name": "stdout",
     "output_type": "stream",
     "text": [
      "<class 'str'>\n"
     ]
    },
    {
     "ename": "TypeError",
     "evalue": "can only concatenate str (not \"int\") to str",
     "output_type": "error",
     "traceback": [
      "\u001b[1;31m---------------------------------------------------------------------------\u001b[0m",
      "\u001b[1;31mTypeError\u001b[0m                                 Traceback (most recent call last)",
      "Cell \u001b[1;32mIn[67], line 4\u001b[0m\n\u001b[0;32m      1\u001b[0m x \u001b[38;5;241m=\u001b[39m \u001b[38;5;28minput\u001b[39m(\u001b[38;5;124m\"\u001b[39m\u001b[38;5;124mx: \u001b[39m\u001b[38;5;124m\"\u001b[39m)\n\u001b[0;32m      2\u001b[0m \u001b[38;5;28mprint\u001b[39m(\u001b[38;5;28mtype\u001b[39m(x))\n\u001b[1;32m----> 4\u001b[0m y \u001b[38;5;241m=\u001b[39m x \u001b[38;5;241m+\u001b[39m \u001b[38;5;241m1\u001b[39m\n",
      "\u001b[1;31mTypeError\u001b[0m: can only concatenate str (not \"int\") to str"
     ]
    }
   ],
   "source": [
    "x = input(\"x: \")\n",
    "print(type(x))\n",
    "\n",
    "y = x + 1"
   ]
  },
  {
   "cell_type": "markdown",
   "id": "a869c7c0-4006-40d2-b328-52f657a651bc",
   "metadata": {},
   "source": [
    "> `input()` method always returns a string"
   ]
  },
  {
   "cell_type": "markdown",
   "id": "69ed5cac-4b97-4e26-9f51-6964596257a9",
   "metadata": {},
   "source": [
    "1. Converting 'x' to int<br/>\n",
    "`int(x)`\n",
    "\n",
    "2. Converting 'x' to float<br/>\n",
    "`float(x)`\n",
    "\n",
    "3. Converting 'x' to bool<br/>\n",
    "`bool(x)`\n",
    "\n",
    "4. Converting 'x' to str<br/>\n",
    "`str(x)`\n",
    "\n",
    "<br/>"
   ]
  },
  {
   "cell_type": "code",
   "execution_count": 68,
   "id": "e6498b83-c3c8-4b00-ab6f-866841d0e245",
   "metadata": {},
   "outputs": [
    {
     "name": "stdin",
     "output_type": "stream",
     "text": [
      "x:  3\n"
     ]
    },
    {
     "name": "stdout",
     "output_type": "stream",
     "text": [
      "4\n"
     ]
    }
   ],
   "source": [
    "x = input(\"x: \")\n",
    "y = int(x) + 1\n",
    "print(y)"
   ]
  },
  {
   "cell_type": "code",
   "execution_count": 71,
   "id": "3f97ea5e-1115-4209-9b30-cf9e145c4b9c",
   "metadata": {},
   "outputs": [
    {
     "name": "stdin",
     "output_type": "stream",
     "text": [
      "x:  3.5\n"
     ]
    },
    {
     "ename": "ValueError",
     "evalue": "invalid literal for int() with base 10: '3.5'",
     "output_type": "error",
     "traceback": [
      "\u001b[1;31m---------------------------------------------------------------------------\u001b[0m",
      "\u001b[1;31mValueError\u001b[0m                                Traceback (most recent call last)",
      "Cell \u001b[1;32mIn[71], line 2\u001b[0m\n\u001b[0;32m      1\u001b[0m x \u001b[38;5;241m=\u001b[39m \u001b[38;5;28minput\u001b[39m(\u001b[38;5;124m\"\u001b[39m\u001b[38;5;124mx: \u001b[39m\u001b[38;5;124m\"\u001b[39m)\n\u001b[1;32m----> 2\u001b[0m y \u001b[38;5;241m=\u001b[39m \u001b[38;5;28mint\u001b[39m(x) \u001b[38;5;241m+\u001b[39m \u001b[38;5;241m1\u001b[39m\n\u001b[0;32m      3\u001b[0m \u001b[38;5;28mprint\u001b[39m(y)\n",
      "\u001b[1;31mValueError\u001b[0m: invalid literal for int() with base 10: '3.5'"
     ]
    }
   ],
   "source": [
    "x = input(\"x: \")\n",
    "y = int(x) + 1\n",
    "print(y)"
   ]
  },
  {
   "cell_type": "code",
   "execution_count": 72,
   "id": "5500c3ad-f1bf-4c11-909e-cbc735bcf790",
   "metadata": {},
   "outputs": [
    {
     "name": "stdin",
     "output_type": "stream",
     "text": [
      "x:  3.5\n"
     ]
    },
    {
     "name": "stdout",
     "output_type": "stream",
     "text": [
      "4.5\n"
     ]
    }
   ],
   "source": [
    "x = input(\"x: \")\n",
    "y = float(x) + 1\n",
    "print(y)"
   ]
  },
  {
   "cell_type": "markdown",
   "id": "57dbcac7-5697-4cdd-bba0-ce95b68c41cb",
   "metadata": {},
   "source": [
    "<br/>\n",
    "\n",
    "### Truthy & Falsy Values in Python\n",
    "\n",
    "- **Falsy values:**\n",
    "    - \"\" (empty strings)\n",
    "    - 0\n",
    "    - None\n",
    "- **Truthy Values:** Anything not Falsy, are Truthy values\n",
    "\n",
    "<br/>"
   ]
  },
  {
   "cell_type": "markdown",
   "id": "e6c700ef-7ad2-4240-8483-c2e9468ba42a",
   "metadata": {},
   "source": [
    "<br/>\n",
    "\n",
    "## Working with Booleans"
   ]
  },
  {
   "cell_type": "code",
   "execution_count": 73,
   "id": "9e5e0c68-542b-49d1-88dd-50d0ee4ff89a",
   "metadata": {},
   "outputs": [
    {
     "name": "stdout",
     "output_type": "stream",
     "text": [
      "True\n"
     ]
    }
   ],
   "source": [
    "print(bool(\"False\"))"
   ]
  },
  {
   "cell_type": "code",
   "execution_count": 74,
   "id": "6a0ddfaa-0708-447b-ac86-32d090094b95",
   "metadata": {},
   "outputs": [
    {
     "name": "stdout",
     "output_type": "stream",
     "text": [
      "False\n"
     ]
    }
   ],
   "source": [
    "print(bool(\"\"))"
   ]
  },
  {
   "cell_type": "code",
   "execution_count": 75,
   "id": "5e2cab88-c735-46af-bd9c-be7ae343233a",
   "metadata": {},
   "outputs": [
    {
     "name": "stdout",
     "output_type": "stream",
     "text": [
      "True\n"
     ]
    }
   ],
   "source": [
    "print(bool(True))"
   ]
  },
  {
   "cell_type": "code",
   "execution_count": 76,
   "id": "60cc9a33-bd13-4d8c-8fa8-8774f4a462e3",
   "metadata": {},
   "outputs": [
    {
     "name": "stdout",
     "output_type": "stream",
     "text": [
      "True\n"
     ]
    }
   ],
   "source": [
    "print(bool(7))"
   ]
  },
  {
   "cell_type": "code",
   "execution_count": 77,
   "id": "7bff4cb3-908b-4f41-ae90-8ba88ebd4e0a",
   "metadata": {},
   "outputs": [
    {
     "name": "stdout",
     "output_type": "stream",
     "text": [
      "False\n"
     ]
    }
   ],
   "source": [
    "print(bool(0))"
   ]
  }
 ],
 "metadata": {
  "kernelspec": {
   "display_name": "Python 3 (ipykernel)",
   "language": "python",
   "name": "python3"
  },
  "language_info": {
   "codemirror_mode": {
    "name": "ipython",
    "version": 3
   },
   "file_extension": ".py",
   "mimetype": "text/x-python",
   "name": "python",
   "nbconvert_exporter": "python",
   "pygments_lexer": "ipython3",
   "version": "3.12.4"
  }
 },
 "nbformat": 4,
 "nbformat_minor": 5
}
